{
  "metadata": {
    "kernelspec": {
      "language": "python",
      "display_name": "Python 3",
      "name": "python3"
    },
    "language_info": {
      "pygments_lexer": "ipython3",
      "nbconvert_exporter": "python",
      "version": "3.6.4",
      "file_extension": ".py",
      "codemirror_mode": {
        "name": "ipython",
        "version": 3
      },
      "name": "python",
      "mimetype": "text/x-python"
    },
    "kaggle": {
      "accelerator": "gpu",
      "dataSources": [
        {
          "sourceId": 748156,
          "sourceType": "datasetVersion",
          "datasetId": 239
        },
        {
          "sourceId": 3923312,
          "sourceType": "datasetVersion",
          "datasetId": 2329628
        },
        {
          "sourceId": 3923315,
          "sourceType": "datasetVersion",
          "datasetId": 2329629
        },
        {
          "sourceId": 3923325,
          "sourceType": "datasetVersion",
          "datasetId": 2329633
        }
      ],
      "dockerImageVersionId": 30209,
      "isInternetEnabled": true,
      "language": "python",
      "sourceType": "notebook",
      "isGpuEnabled": true
    },
    "colab": {
      "provenance": []
    }
  },
  "nbformat_minor": 0,
  "nbformat": 4,
  "cells": [
    {
      "cell_type": "code",
      "source": [
        "from keras.layers import Conv3D, MaxPool3D, Flatten, Dense\n",
        "from keras.layers import Dropout, Input, BatchNormalization\n",
        "from sklearn.metrics import confusion_matrix, accuracy_score\n",
        "from plotly.offline import iplot, init_notebook_mode\n",
        "from keras.losses import categorical_crossentropy\n",
        "from tensorflow.keras.optimizers import Adadelta, Adam\n",
        "from keras.utils.np_utils import to_categorical\n",
        "from keras.models import Sequential, load_model\n",
        "from keras.callbacks import ModelCheckpoint, EarlyStopping, ReduceLROnPlateau, LearningRateScheduler\n",
        "import plotly.graph_objs as go\n",
        "from matplotlib.pyplot import cm\n",
        "import matplotlib.pyplot as plt\n",
        "from keras.models import Model\n",
        "import numpy as np\n",
        "import keras\n",
        "import h5py\n",
        "\n",
        "init_notebook_mode(connected=True)\n",
        "%matplotlib inline\n",
        "plt.style.use('fivethirtyeight')"
      ],
      "metadata": {
        "_uuid": "8f2839f25d086af736a60e9eeb907d3b93b6e0e5",
        "_cell_guid": "b1076dfc-b9ad-4769-8c92-a6c4dae69d19",
        "execution": {
          "iopub.status.busy": "2022-07-23T17:01:52.157663Z",
          "iopub.execute_input": "2022-07-23T17:01:52.158117Z",
          "iopub.status.idle": "2022-07-23T17:01:52.17576Z",
          "shell.execute_reply.started": "2022-07-23T17:01:52.158071Z",
          "shell.execute_reply": "2022-07-23T17:01:52.173921Z"
        },
        "trusted": true,
        "id": "O5xRI0-gQ1fj"
      },
      "execution_count": null,
      "outputs": []
    },
    {
      "cell_type": "markdown",
      "source": [
        "# Loading the Dataset"
      ],
      "metadata": {
        "id": "7MzFYlZ-Q1fm"
      }
    },
    {
      "cell_type": "code",
      "source": [
        "with h5py.File('../input/3d-mnist/full_dataset_vectors.h5', 'r') as dataset:\n",
        "    x_train, x_test = dataset[\"X_train\"][:], dataset[\"X_test\"][:]\n",
        "    y_train, y_test = dataset[\"y_train\"][:], dataset[\"y_test\"][:]\n",
        "\n",
        "print (\"x_train shape: \", x_train.shape)\n",
        "print (\"y_train shape: \", y_train.shape)\n",
        "\n",
        "print (\"x_test shape:  \", x_test.shape)\n",
        "print (\"y_test shape:  \", y_test.shape)"
      ],
      "metadata": {
        "execution": {
          "iopub.status.busy": "2022-07-23T17:05:25.267935Z",
          "iopub.execute_input": "2022-07-23T17:05:25.269425Z",
          "iopub.status.idle": "2022-07-23T17:05:26.715878Z",
          "shell.execute_reply.started": "2022-07-23T17:05:25.269373Z",
          "shell.execute_reply": "2022-07-23T17:05:26.714119Z"
        },
        "trusted": true,
        "id": "8YHEZOpZQ1fn"
      },
      "execution_count": null,
      "outputs": []
    },
    {
      "cell_type": "markdown",
      "source": [
        "# Visualize Examples\n",
        "\n",
        "##Let's look at the first 5 digits in our dataset in 3D space!"
      ],
      "metadata": {
        "id": "dM-1ySaBQ1fo"
      }
    },
    {
      "cell_type": "code",
      "source": [
        "with h5py.File(\"../input/3d-mnist/train_point_clouds.h5\", \"r\") as points_dataset:\n",
        "    digits = []\n",
        "    for i in range(10):\n",
        "        digit = (points_dataset[str(i)][\"img\"][:],\n",
        "                 points_dataset[str(i)][\"points\"][:],\n",
        "                 points_dataset[str(i)].attrs[\"label\"])\n",
        "        digits.append(digit)\n",
        "\n",
        "index = -1\n",
        "\n",
        "for j in [1, -2, 5, -3, -1, 0]:\n",
        "    x_c = [r[0] for r in digits[j][1]]\n",
        "    y_c = [r[1] for r in digits[j][1]]\n",
        "    z_c = [r[2] for r in digits[j][1]]\n",
        "\n",
        "    index += 1\n",
        "\n",
        "    trace1 = go.Scatter3d(x = x_c, y = y_c, z = z_c, mode = \"markers\", marker_symbol = \"circle-open\",\n",
        "                          marker = dict(size = 3, color = y_c, colorscale = \"Phase\", opacity = 1))\n",
        "\n",
        "    data = [trace1]\n",
        "\n",
        "    layout = go.Layout(height = 600, width = 900, template = \"plotly_dark\",\n",
        "                       title= f\"Digit: {index} in 3D space\")\n",
        "\n",
        "    fig = go.Figure(data = data, layout = layout)\n",
        "\n",
        "    fig.update_layout(title = f\"Digit: {index} in 3D space\", font = dict(family = \"PT Sans\", size = 15))\n",
        "\n",
        "    iplot(fig)"
      ],
      "metadata": {
        "trusted": true,
        "id": "J9Fw2p3xQ1fo"
      },
      "execution_count": null,
      "outputs": []
    },
    {
      "cell_type": "markdown",
      "source": [
        "# Converting the input to 4D shape to use 3D convolution\n",
        "\n",
        "\n",
        "## 1. 3D convolutions applies a 3 dimensional filter to the dataset and the filter moves 3-direction (x, y, z) to calcuate the low level feature representations.Their output shape is a 3 dimensional volume space such as cube or cuboid.\n",
        "\n",
        "## 2. They are helpful in event detection in videos, 3D medical images etc. They are not limited to 3d space but can also be applied to 2d space inputs such as images."
      ],
      "metadata": {
        "id": "Ue_9YmMFQ1fo"
      }
    },
    {
      "cell_type": "code",
      "source": [
        "# Introduce the channel dimension in the input dataset\n",
        "xtrain = np.ndarray((x_train.shape[0], 4096, 3))\n",
        "xtest = np.ndarray((x_test.shape[0], 4096, 3))\n",
        "\n",
        "# Translate data to color\n",
        "def add_rgb_dimension(array):\n",
        "    scalar_map = cm.ScalarMappable(cmap = \"Oranges\")\n",
        "    return scalar_map.to_rgba(array)[:, : -1]\n",
        "\n",
        "# Iterate through train and test, add the RGB dimension\n",
        "for i in range(x_train.shape[0]):\n",
        "    xtrain[i] = add_rgb_dimension(x_train[i])\n",
        "for i in range(x_test.shape[0]):\n",
        "    xtest[i] = add_rgb_dimension(x_test[i])\n",
        "\n",
        "# Convert to 1 + 4D space (1st argument represents number of rows in the dataset)\n",
        "xtrain = xtrain.reshape(x_train.shape[0], 16, 16, 16, 3)\n",
        "xtest = xtest.reshape(x_test.shape[0], 16, 16, 16, 3)\n",
        "\n",
        "# Convert target variable into one-hot\n",
        "y_train = to_categorical(y_train, 10)"
      ],
      "metadata": {
        "execution": {
          "iopub.status.busy": "2022-07-23T17:05:28.870542Z",
          "iopub.execute_input": "2022-07-23T17:05:28.871034Z",
          "iopub.status.idle": "2022-07-23T17:05:37.900537Z",
          "shell.execute_reply.started": "2022-07-23T17:05:28.871002Z",
          "shell.execute_reply": "2022-07-23T17:05:37.899184Z"
        },
        "trusted": true,
        "id": "gBsEg30wQ1fp"
      },
      "execution_count": null,
      "outputs": []
    },
    {
      "cell_type": "code",
      "source": [
        "xtrain.shape, y_train.shape"
      ],
      "metadata": {
        "trusted": true,
        "id": "V80cX7qeQ1fp"
      },
      "execution_count": null,
      "outputs": []
    },
    {
      "cell_type": "markdown",
      "source": [
        "# Convolutional Layers\n",
        "\n",
        "## Although we are working with 3D MNIST in this instance, I have found this visualization of convolutional layers to be quite helpful for gaining intuition on the inner workings of a CNN."
      ],
      "metadata": {
        "id": "wF0vGAxqQ1fp"
      }
    },
    {
      "cell_type": "code",
      "source": [
        "import IPython\n",
        "from IPython.display import display\n",
        "from PIL import Image\n",
        "IPython.display.Image(filename='../input/convnn/conv-nn.png')"
      ],
      "metadata": {
        "_kg_hide-input": true,
        "trusted": true,
        "id": "Ap5yRffHQ1fq"
      },
      "execution_count": null,
      "outputs": []
    },
    {
      "cell_type": "markdown",
      "source": [
        "# Feature Maps\n",
        "\n",
        "## Convolutional layers have a set of whose depth is equal to the input. Other dimensions can be set manually. If a kernel is initialized with values in a speciifc configuration, they can be used to transform an input image and find various. These filters when convolved over the input image produce."
      ],
      "metadata": {
        "id": "0rWONXiHQ1fq"
      }
    },
    {
      "cell_type": "code",
      "source": [
        "IPython.display.Image(filename='../input/featuremap/feature-map.png')"
      ],
      "metadata": {
        "_kg_hide-input": true,
        "trusted": true,
        "id": "D29DUQBLQ1fq"
      },
      "execution_count": null,
      "outputs": []
    },
    {
      "cell_type": "markdown",
      "source": [
        "# Max Pooling\n",
        "\n",
        "## Max Pooling reduces the spatial dimensions of the feature maps before traversing through the fully connected layers."
      ],
      "metadata": {
        "id": "4ILBJ6ARQ1fq"
      }
    },
    {
      "cell_type": "code",
      "source": [
        "IPython.display.Image(filename='../input/maxpool/max-pooling.png')"
      ],
      "metadata": {
        "_kg_hide-input": true,
        "trusted": true,
        "id": "DMu3clArQ1fq"
      },
      "execution_count": null,
      "outputs": []
    },
    {
      "cell_type": "markdown",
      "source": [
        "# Building 3D Convolutional Neural Network\n",
        "\n",
        "## Lets create the model architecture. The architecture is described below:\n",
        "\n",
        "**Input and Output layers:**\n",
        "\n",
        "- One input layer with dimension (16, 16, 16, 3) and output layer with dimension 10.\n",
        "\n",
        "**Convolutions:**\n",
        "\n",
        "- Apply 4 convolutional layers with increasing order of filter size (16, 32, 64, 128) and fixed kernel size = (3, 3, 3).\n",
        "\n",
        "- Apply 2 max pooling layers, one after 2nd convolutional layer and one after fourth convolutional layer.\n",
        "\n",
        "**MLP architecture:**\n",
        "\n",
        "- Batch normalization on convolutional architecture.\n",
        "\n",
        "- Dense layers with 2 layers followed by dropout to avoid overfitting."
      ],
      "metadata": {
        "id": "Vrd7x5QJQ1fq"
      }
    },
    {
      "cell_type": "code",
      "source": [
        "input_layer = Input((16, 16, 16, 3)) # Input image dimensions\n",
        "\n",
        "# Building a 3D ConvNet\n",
        "# CNN is derived from the convolutional operator (dot product of 2 functions to produce a 3rd function)\n",
        "\n",
        "model = Sequential() # Sequential Keras API which is a linear stack of layers\n",
        "\n",
        "model.add(Conv3D(filters = 16, # The number of filters (Kernels) used with this layer\n",
        "\n",
        "                 kernel_size = (3, 3, 3), # The dimensions of the feature map\n",
        "\n",
        "                 activation = \"relu\", # Activation function - Rectified Linear Unit (ReLU)\n",
        "\n",
        "                 strides = 1, # How much the window (feature map) shifts by in each of the dimensions\n",
        "\n",
        "                 padding = \"same\", # When stride = 1, output spatial shape is the same as input spatial shape\n",
        "\n",
        "                 use_bias = False, # If use_bias is True, a bias vector is created and added to the outputs.\n",
        "\n",
        "                 # There are two conventions for shapes of images tensors: the channels-last convention\n",
        "                 # (used by TensorFlow) and the channels-first convention (used by Theano).\"\n",
        "                 # Deep Learning with Python - François Chollet\n",
        "                 data_format = \"channels_last\"))\n",
        "\n",
        "# Scales down outliers and forces the network to learn features in a distributed way\n",
        "# By not relying too much on any particular weight, this helps the model better generalize the images\n",
        "model.add(BatchNormalization())\n",
        "\n",
        "model.add(Conv3D(filters = 32, kernel_size = (3, 3, 3), activation = \"relu\",\n",
        "                 use_bias = False, strides = 1, padding = \"same\", data_format = \"channels_last\"))\n",
        "\n",
        "model.add(BatchNormalization())\n",
        "\n",
        "# Max Pooling reduces the spatial dimensions of the feature maps before the fully connected layers\n",
        "model.add(MaxPool3D(pool_size = (2, 2, 2))) # the pool_size (2, 2, 2) halves the size of its input\n",
        "\n",
        "model.add(Conv3D(filters = 64, kernel_size = (3, 3, 3), activation = \"relu\",\n",
        "                 use_bias = False, strides = 1, padding = \"same\", data_format = \"channels_last\"))\n",
        "\n",
        "model.add(BatchNormalization())\n",
        "\n",
        "model.add(Conv3D(filters = 128, kernel_size = (3, 3, 3), activation = \"relu\",\n",
        "                 use_bias = False, strides = 1, padding = \"same\", data_format = \"channels_last\"))\n",
        "\n",
        "model.add(BatchNormalization())\n",
        "model.add(MaxPool3D(pool_size = (2, 2, 2))) # the pool_size (2, 2, 2) halves the size of its input\n",
        "\n",
        "# To help avoid overfitting we can add Dropout.\n",
        "# This randomly drops some percentage of neurons, and thus the weights become re-aligned\n",
        "model.add(Dropout(0.2)) # No more BatchNorm after this layer because we introduce Dropout\n",
        "\n",
        "# Finally, we can add a flatten layer to map the input to a 1D vector\n",
        "# We then add fully connected layers after some convolutional/pooling layers.\n",
        "\n",
        "model.add(Flatten())\n",
        "model.add(Dense(4096, activation = \"relu\"))\n",
        "model.add(Dropout(0.45))\n",
        "model.add(Dense(1024, activation = \"relu\"))\n",
        "model.add(Dropout(0.45))\n",
        "model.add(Dense(10, activation = \"softmax\")) # activation function for Multi-Class Classification"
      ],
      "metadata": {
        "_kg_hide-output": true,
        "execution": {
          "iopub.status.busy": "2022-07-23T17:05:39.953435Z",
          "iopub.execute_input": "2022-07-23T17:05:39.953858Z",
          "iopub.status.idle": "2022-07-23T17:05:39.999261Z",
          "shell.execute_reply.started": "2022-07-23T17:05:39.953826Z",
          "shell.execute_reply": "2022-07-23T17:05:39.997944Z"
        },
        "trusted": true,
        "id": "J6ly9HCaQ1fq"
      },
      "execution_count": null,
      "outputs": []
    },
    {
      "cell_type": "markdown",
      "source": [
        "# Compiling the Model\n",
        "\n",
        "**Step 1 - Specify the optimizer used by the model:**\n",
        "\n",
        "- We will be using the Adam optimizer in this instance but please refer to the [Keras documentation](https://keras.io/api/optimizers/) for a comprehensive list of optimizers available.\n",
        "\n",
        "- The Adam optimizer (Adaptive Moment Estimation) is an improved version of gradient descent. Interestingly, the Adam algorithm doesn't use a single global learning rate Alpha. It uses a different learning rates for every single parameter of your model.\n",
        "\n",
        "- The intuition behind the Adam algorithm is if the coefficients (weights and bias) keep moving in roughly the same direction, Adam will increase the learning rate for that parameter. In other words, let's go faster in that direction. -->\n",
        "\n",
        "**Step 2 - Specify the loss function of the model:**\n",
        "\n",
        "- For Binary Classification we use \"binary_crossentropy\" and for Multi-class Classification we use \"categorical_crossentropy\".\n",
        "\n",
        "**Step 3 - Specify metric to evaluate model performance:**\n",
        "\n",
        "- We will be using the accuracy metric but please refer to the [Keras documentation](https://keras.io/api/metrics/) for a comprehensive list of metrics available."
      ],
      "metadata": {
        "id": "tk9zEnV0Q1fr"
      }
    },
    {
      "cell_type": "code",
      "source": [
        "optimizer = Adam(learning_rate = 0.0001) # Optimizer\n",
        "# Adam will increase the learning rate when the coefficients are moving in roughly the same direction"
      ],
      "metadata": {
        "execution": {
          "iopub.status.busy": "2022-07-23T17:05:45.724698Z",
          "iopub.execute_input": "2022-07-23T17:05:45.725147Z",
          "iopub.status.idle": "2022-07-23T17:05:45.732309Z",
          "shell.execute_reply.started": "2022-07-23T17:05:45.725112Z",
          "shell.execute_reply": "2022-07-23T17:05:45.730556Z"
        },
        "trusted": true,
        "id": "IcSk3Jr8Q1fr"
      },
      "execution_count": null,
      "outputs": []
    },
    {
      "cell_type": "code",
      "source": [
        "# Compiling the model\n",
        "model.compile(optimizer = optimizer, loss = \"categorical_crossentropy\", metrics = [\"accuracy\"])"
      ],
      "metadata": {
        "execution": {
          "iopub.status.busy": "2022-07-23T17:05:46.52954Z",
          "iopub.execute_input": "2022-07-23T17:05:46.52993Z",
          "iopub.status.idle": "2022-07-23T17:05:46.543719Z",
          "shell.execute_reply.started": "2022-07-23T17:05:46.529898Z",
          "shell.execute_reply": "2022-07-23T17:05:46.542288Z"
        },
        "trusted": true,
        "id": "52XL19AMQ1fr"
      },
      "execution_count": null,
      "outputs": []
    },
    {
      "cell_type": "markdown",
      "source": [
        "# Learning Rate Scheduler\n",
        "\n",
        "- At the beginning of every epoch, this callback retrieves the updated learning rate value from the schedule function provided at __init__, with the current epoch and current learning rate, and applies the updated learning rate on the optimizer. [Source](https://keras.io/api/callbacks/learning_rate_scheduler/)\n",
        "\n",
        "- A learning rate that is too high will make the learning jump over minima but a too low learning rate will either take too long to converge or get stuck in an undesirable local minimum.\n",
        "\n",
        "**Essentially, the Learning Rate Scheduler outputs a new learning rate after each epoch iteration.**"
      ],
      "metadata": {
        "id": "JBjPZsOOQ1fr"
      }
    },
    {
      "cell_type": "code",
      "source": [
        "reduce_lr = LearningRateScheduler(lambda x: 1e-3 * 0.9 ** x)"
      ],
      "metadata": {
        "execution": {
          "iopub.status.busy": "2022-07-23T17:05:48.220394Z",
          "iopub.execute_input": "2022-07-23T17:05:48.221675Z",
          "iopub.status.idle": "2022-07-23T17:05:48.228672Z",
          "shell.execute_reply.started": "2022-07-23T17:05:48.221628Z",
          "shell.execute_reply": "2022-07-23T17:05:48.22728Z"
        },
        "trusted": true,
        "id": "fJ-nisUiQ1fr"
      },
      "execution_count": null,
      "outputs": []
    },
    {
      "cell_type": "markdown",
      "source": [
        "# More Callbacks\n",
        "\n",
        "**A callback is an object that can perform actions at various stages of training (e.g. at the start or end of an epoch, before or after a single batch, etc).** [Source](https://keras.io/api/callbacks/)"
      ],
      "metadata": {
        "id": "GmQ11y_fQ1fr"
      }
    },
    {
      "cell_type": "code",
      "source": [
        "filepath = \"best_weight.h5\"\n",
        "patience_earlystop = 7\n",
        "patience_ReduceLROnPlateau = 3\n",
        "\n",
        "mcp = ModelCheckpoint(filepath, monitor = \"val_loss\", mode = \"min\",\n",
        "                      save_best_only = True, save_weights_only = True, verbose = 1)\n",
        "\n",
        "learning_rate_reduction = ReduceLROnPlateau(monitor = \"val_acc\", patience = patience_ReduceLROnPlateau,\n",
        "                                            verbose = 1, factor = 0.5, min_lr = 1e-5)"
      ],
      "metadata": {
        "execution": {
          "iopub.status.busy": "2022-07-23T17:05:49.776731Z",
          "iopub.execute_input": "2022-07-23T17:05:49.778675Z",
          "iopub.status.idle": "2022-07-23T17:05:49.787962Z",
          "shell.execute_reply.started": "2022-07-23T17:05:49.778621Z",
          "shell.execute_reply": "2022-07-23T17:05:49.786354Z"
        },
        "trusted": true,
        "id": "o--kOfIaQ1fr"
      },
      "execution_count": null,
      "outputs": []
    },
    {
      "cell_type": "markdown",
      "source": [
        "# Fitting the Model"
      ],
      "metadata": {
        "id": "kKAvo4HDQ1fr"
      }
    },
    {
      "cell_type": "code",
      "source": [
        "# Hyper Parameters\n",
        "BATCH_SIZE = 64\n",
        "EPOCHS = 50\n",
        "history = model.fit(x = xtrain, y = y_train, validation_data = (x_test, y_test),\n",
        "                    batch_size = BATCH_SIZE, epochs = EPOCHS,\n",
        "                    validation_split = 0.3, verbose = 1,\n",
        "                    callbacks = [reduce_lr, learning_rate_reduction, mcp])"
      ],
      "metadata": {
        "execution": {
          "iopub.status.busy": "2022-07-23T17:05:51.784741Z",
          "iopub.execute_input": "2022-07-23T17:05:51.785645Z",
          "iopub.status.idle": "2022-07-23T17:09:15.460961Z",
          "shell.execute_reply.started": "2022-07-23T17:05:51.785611Z",
          "shell.execute_reply": "2022-07-23T17:09:15.459561Z"
        },
        "trusted": true,
        "id": "egOenTq9Q1fr"
      },
      "execution_count": null,
      "outputs": []
    },
    {
      "cell_type": "markdown",
      "source": [
        "# Training and Validation Curves"
      ],
      "metadata": {
        "id": "jRnpfV21Q1fr"
      }
    },
    {
      "cell_type": "code",
      "source": [
        "plt.figure(figsize = (12, 6))\n",
        "accuracy = history.history[\"accuracy\"]\n",
        "val_accuracy = history.history[\"val_accuracy\"]\n",
        "loss = history.history[\"loss\"]\n",
        "val_loss = history.history[\"val_loss\"]\n",
        "epochs = range(len(accuracy))\n",
        "plt.plot(epochs, accuracy, 'b', label = \"Training accuracy\")\n",
        "plt.plot(epochs, val_accuracy, 'r', label = \"Validation accuracy\")\n",
        "plt.title(\"Training and validation accuracy\")\n",
        "plt.legend()\n",
        "plt.figure(figsize = (12, 6))\n",
        "plt.plot(epochs, loss, 'b', label = \"Training loss\")\n",
        "plt.plot(epochs, val_loss, 'r', label = \"Validation loss\")\n",
        "plt.title(\"Training and validation loss\")\n",
        "plt.legend()\n",
        "plt.show()"
      ],
      "metadata": {
        "execution": {
          "iopub.status.busy": "2022-07-23T17:09:15.463677Z",
          "iopub.execute_input": "2022-07-23T17:09:15.464466Z",
          "iopub.status.idle": "2022-07-23T17:09:15.981703Z",
          "shell.execute_reply.started": "2022-07-23T17:09:15.464419Z",
          "shell.execute_reply": "2022-07-23T17:09:15.980285Z"
        },
        "trusted": true,
        "id": "3k8QkDLPQ1fr"
      },
      "execution_count": null,
      "outputs": []
    },
    {
      "cell_type": "markdown",
      "source": [
        "# **The End**"
      ],
      "metadata": {
        "id": "4qyqvKTlQ1fr"
      }
    }
  ]
}